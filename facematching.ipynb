{
 "cells": [
  {
   "cell_type": "code",
   "execution_count": null,
   "id": "486ece84-3072-476e-a68a-7aa8ccf2e1d8",
   "metadata": {},
   "outputs": [],
   "source": [
    "import cv2\n",
    "import dlib\n",
    "import os\n",
    "import time"
   ]
  },
  {
   "cell_type": "code",
   "execution_count": null,
   "id": "58fd6548-3368-428f-9423-201a9ea38d48",
   "metadata": {},
   "outputs": [],
   "source": [
    "# Load the detector\n",
    "detector = dlib.get_frontal_face_detector()\n",
    "\n",
    "# Load the predictor\n",
    "predictor = dlib.shape_predictor(\"shape_predictor_68_face_landmarks.dat\")\n",
    "\n",
    "path = \"img\"\n",
    "files = []\n",
    "\n",
    "for r, d, f in os.walk(path):\n",
    "    for file in f:\n",
    "        if '.jpg' in file:\n",
    "            files.append(os.path.join(r, file))"
   ]
  },
  {
   "cell_type": "code",
   "execution_count": null,
   "id": "c82f1404-46d9-4573-abe1-1d801f41be0d",
   "metadata": {},
   "outputs": [],
   "source": [
    "def facial_analysis(path):\n",
    "    img = cv2.imread(path)\n",
    "\n",
    "    # Convert image into grayscale\n",
    "    gray = cv2.cvtColor(src=img, code=cv2.COLOR_BGR2GRAY)\n",
    "    \n",
    "    # Use detector to find landmarks\n",
    "    faces = detector(gray)\n",
    "    for face in faces:\n",
    "        x1 = face.left() # left point\n",
    "        y1 = face.top() # top point\n",
    "        x2 = face.right() # right point\n",
    "        y2 = face.bottom() # bottom point\n",
    "    \n",
    "        # Create landmark object\n",
    "        landmarks = predictor(image=gray, box=face)\n",
    "    \n",
    "        # Loop through all the points\n",
    "        for n in range(0, 68):\n",
    "            x = landmarks.part(n).x\n",
    "            y = landmarks.part(n).y\n",
    "    \n",
    "            # Draw a circle\n",
    "            cv2.circle(img=img, center=(x, y), radius=3, color=(0, 255, 0), thickness=-1)\n",
    "    img = cv2.resize(img, (750, 750))\n",
    "    \n",
    "    # show the image\n",
    "    #cv2.imshow(winname=\"Face\", mat=img)\n",
    "    \n",
    "    # Delay between every fram\n",
    "    #cv2.waitKey(delay=0)\n",
    "    \n",
    "    # Close all windows\n",
    "    #cv2.destroyAllWindows()"
   ]
  },
  {
   "cell_type": "code",
   "execution_count": null,
   "id": "292c6642-bf89-4e5f-b068-e88a6b52f2dd",
   "metadata": {},
   "outputs": [],
   "source": [
    "start = time.time()\n",
    "for i in files:\n",
    "    facial_analysis(i)\n",
    "end = time.time()\n",
    "print(end - start)"
   ]
  },
  {
   "cell_type": "code",
   "execution_count": null,
   "id": "154ec754-b6b2-4810-aa46-307fdc813390",
   "metadata": {},
   "outputs": [],
   "source": []
  }
 ],
 "metadata": {
  "kernelspec": {
   "display_name": "Python 3 (ipykernel)",
   "language": "python",
   "name": "python3"
  },
  "language_info": {
   "codemirror_mode": {
    "name": "ipython",
    "version": 3
   },
   "file_extension": ".py",
   "mimetype": "text/x-python",
   "name": "python",
   "nbconvert_exporter": "python",
   "pygments_lexer": "ipython3",
   "version": "3.11.3"
  }
 },
 "nbformat": 4,
 "nbformat_minor": 5
}
